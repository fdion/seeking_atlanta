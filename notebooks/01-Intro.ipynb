{
 "cells": [
  {
   "cell_type": "code",
   "execution_count": 2,
   "metadata": {
    "slideshow": {
     "slide_type": "notes"
    }
   },
   "outputs": [],
   "source": [
    "%matplotlib inline\n",
    "\n",
    "import matplotlib.pyplot as plt\n",
    "import numpy as np\n",
    "import pandas as pd\n",
    "import scipy.stats as stats\n",
    "import statsmodels.api as sm\n",
    "import seaborn as sns\n",
    "from stemgraphic import stem_graphic\n",
    "\n",
    "import warnings\n",
    "warnings.filterwarnings('ignore')\n",
    "sns.set_context('talk')"
   ]
  },
  {
   "cell_type": "markdown",
   "metadata": {
    "slideshow": {
     "slide_type": "slide"
    }
   },
   "source": [
    "<img src ='datascicon.jpg' width=\"20%\">\n",
    "\n",
    "# Seeking Exotics\n",
    "\n",
    "## A Story of Visualization and Model Based Anomaly Detection\n",
    "\n",
    "Francois Dion [@f_dion](http://www.twitter.com/f_dion),  [linkedin.com](https://www.linkedin.com/in/francois-dion-8b639b79/) and [fdion@dionresearch.com](mailto:fdion@dionresearch.com)\n",
    "\n",
    "Francois is the founder of [PYPTUG](http://www.pyptug.org) (PYthon Piedmont Triad User Group) and owner of R&D firm [Dion Research LLC](http://www.dionresearch.com), specializing in Analytics, Data Science, IoT and Visualizations."
   ]
  },
  {
   "cell_type": "markdown",
   "metadata": {
    "slideshow": {
     "slide_type": "slide"
    }
   },
   "source": [
    "Listen to the podcast \"Something for your mind\", [A is for Anomaly](http://artchiv.es/s4ym/posts/podcast-episode-002/) for background information and [www.stemgraphic.org](http://www.stemgraphic.org) for details on my scalable graphical stem-and-leaf tool and module.\n",
    "\n",
    "__the truth is out there__ [github.com/fdion/seeking_atlanta](http://github.com/fdion/seeking_atlanta)"
   ]
  },
  {
   "cell_type": "markdown",
   "metadata": {
    "slideshow": {
     "slide_type": "slide"
    }
   },
   "source": [
    "\"Is it right to hold that the several observations are of the same weight or moment, or equally prone to any and every error?\"\n",
    "-- Daniel Bernoulli, 1777\n"
   ]
  },
  {
   "cell_type": "markdown",
   "metadata": {
    "slideshow": {
     "slide_type": "slide"
    }
   },
   "source": [
    "## Intro\n",
    "\n",
    "Seeking Exotics introduces the audience to the world of outliers and anomaly detection through the use of __metrics__, __visualizations__ and open source __machine learning__ tools.\n",
    "\n",
    "Anomaly detection, particularly in the case of fraud detection has been around for a long time. Having said that, we probably can use anomaly detection in every aspect of our lives and of business. As to what to do with outliers, Bernoulli's choice, or absence of one, still plagues us to-day.\n",
    "\n",
    "\n"
   ]
  },
  {
   "cell_type": "markdown",
   "metadata": {
    "slideshow": {
     "slide_type": "slide"
    }
   },
   "source": [
    "# Statistics\n",
    "\n",
    "<img src='normal.jpg'>\n",
    "(In W.J. Youdon's _Experimentation and Measurement_). When everything is normal, it's all good."
   ]
  },
  {
   "cell_type": "code",
   "execution_count": 3,
   "metadata": {
    "collapsed": true,
    "slideshow": {
     "slide_type": "notes"
    }
   },
   "outputs": [],
   "source": [
    "np.random.seed(42)\n",
    "# mean, std dev, number in population\n",
    "pop = np.random.normal(loc=500, scale=100, size=500)"
   ]
  },
  {
   "cell_type": "markdown",
   "metadata": {
    "slideshow": {
     "slide_type": "slide"
    }
   },
   "source": [
    "# Distplot\n",
    "\n",
    "We will use [seaborn](http://seaborn.pydata.org/) with some normally distributed data (from a PRNG in numpy)\n",
    "\n",
    "```python\n",
    "np.random.seed(42)\n",
    "# mean, std dev, number in population\n",
    "pop = np.random.normal(loc=500, scale=100, size=500)\n",
    "```"
   ]
  },
  {
   "cell_type": "code",
   "execution_count": 4,
   "metadata": {
    "slideshow": {
     "slide_type": "slide"
    }
   },
   "outputs": [
    {
     "data": {
      "image/png": "[encoded data removed]",
      "text/plain": [
       "<matplotlib.figure.Figure at 0x7f5e241d7ac8>"
      ]
     },
     "metadata": {},
     "output_type": "display_data"
    }
   ],
   "source": [
    "sns.distplot(pop);"
   ]
  },
  {
   "cell_type": "code",
   "execution_count": 5,
   "metadata": {
    "slideshow": {
     "slide_type": "slide"
    }
   },
   "outputs": [
    {
     "name": "stdout",
     "output_type": "stream",
     "text": [
      "500.683799459 98.0271502997\n"
     ]
    }
   ],
   "source": [
    "print(pop.mean(), pop.std())"
   ]
  },
  {
   "cell_type": "markdown",
   "metadata": {
    "slideshow": {
     "slide_type": "slide"
    }
   },
   "source": [
    "Alternative to the rug plot is Tukey's box plot"
   ]
  },
  {
   "cell_type": "markdown",
   "metadata": {},
   "source": [
    "To learn more about all the options to seaborn's boxplot, type:\n",
    "```python\n",
    "help(sns.boxplot)\n",
    "```"
   ]
  },
  {
   "cell_type": "code",
   "execution_count": 6,
   "metadata": {
    "scrolled": true,
    "slideshow": {
     "slide_type": "slide"
    }
   },
   "outputs": [
    {
     "data": {
      "image/png": "[encoded data removed]",
      "text/plain": [
       "<matplotlib.figure.Figure at 0x7f5df308e160>"
      ]
     },
     "metadata": {},
     "output_type": "display_data"
    }
   ],
   "source": [
    "sns.boxplot(pop);"
   ]
  },
  {
   "cell_type": "code",
   "execution_count": 7,
   "metadata": {
    "slideshow": {
     "slide_type": "slide"
    }
   },
   "outputs": [
    {
     "data": {
      "image/png": "[encoded data removed]",
      "text/plain": [
       "<matplotlib.figure.Figure at 0x7f5deb1a36d8>"
      ]
     },
     "metadata": {},
     "output_type": "display_data"
    }
   ],
   "source": [
    "stem_graphic(pop);"
   ]
  },
  {
   "cell_type": "markdown",
   "metadata": {
    "slideshow": {
     "slide_type": "slide"
    }
   },
   "source": [
    "# Distplot and boxplot\n",
    "\n",
    "If you can't live without a histogram"
   ]
  },
  {
   "cell_type": "code",
   "execution_count": 8,
   "metadata": {
    "slideshow": {
     "slide_type": "slide"
    }
   },
   "outputs": [
    {
     "data": {
      "image/png": "[encoded data removed]",
      "text/plain": [
       "<matplotlib.figure.Figure at 0x7f5deb135f28>"
      ]
     },
     "metadata": {},
     "output_type": "display_data"
    }
   ],
   "source": [
    "ax = sns.distplot(pop, fit=stats.norm, fit_kws={'color': 'r', 'alpha': 0.3})\n",
    "ax2 = ax.twinx()\n",
    "sns.boxplot(x=pop, ax=ax2)\n",
    "ax2.set(ylim=(-.3, 9.7));"
   ]
  },
  {
   "cell_type": "markdown",
   "metadata": {
    "slideshow": {
     "slide_type": "slide"
    }
   },
   "source": [
    "<img src='compound_viz.png'>"
   ]
  },
  {
   "cell_type": "markdown",
   "metadata": {
    "slideshow": {
     "slide_type": "slide"
    }
   },
   "source": [
    "# Graphic Presentation\n",
    "\n",
    "Why valuable?\n",
    "\n",
    "5 points from Calvin F. Schmid"
   ]
  },
  {
   "cell_type": "markdown",
   "metadata": {
    "collapsed": true,
    "slideshow": {
     "slide_type": "slide"
    }
   },
   "source": [
    "# Estimate vs. Actual\n",
    "\n",
    "<img src='double_log.jpg' width=30%>"
   ]
  },
  {
   "cell_type": "markdown",
   "metadata": {
    "slideshow": {
     "slide_type": "slide"
    }
   },
   "source": [
    "# Ship & French curves\n",
    "\n",
    "<img src='curves.jpg' width=50%>"
   ]
  },
  {
   "cell_type": "markdown",
   "metadata": {
    "slideshow": {
     "slide_type": "slide"
    }
   },
   "source": [
    "## The eye and the brain\n",
    "\n",
    "F. J. Anscombe's paper \"Graphs in Statistical Analysis\" (1973) demonstrated why graphs are essential to good statistical analysis. We will not go into the details of this paper (<a href=\"http://www.sjsu.edu/faculty/gerstman/StatPrimer/anscombe1973.pdf\">feel free to read it afterward</a>). Instead, we will borrow the data set from his 3rd plot."
   ]
  },
  {
   "cell_type": "code",
   "execution_count": 9,
   "metadata": {
    "collapsed": true
   },
   "outputs": [],
   "source": [
    "anscombe = sns.load_dataset(\"anscombe\")\n",
    "anscombe_3 = anscombe[anscombe.dataset=='III']"
   ]
  },
  {
   "cell_type": "code",
   "execution_count": 10,
   "metadata": {
    "slideshow": {
     "slide_type": "slide"
    }
   },
   "outputs": [
    {
     "data": {
      "text/html": [
       "<div>\n",
       "<style>\n",
       "    .dataframe thead tr:only-child th {\n",
       "        text-align: right;\n",
       "    }\n",
       "\n",
       "    .dataframe thead th {\n",
       "        text-align: left;\n",
       "    }\n",
       "\n",
       "    .dataframe tbody tr th {\n",
       "        vertical-align: top;\n",
       "    }\n",
       "</style>\n",
       "<table border=\"1\" class=\"dataframe\">\n",
       "  <thead>\n",
       "    <tr style=\"text-align: right;\">\n",
       "      <th></th>\n",
       "      <th>dataset</th>\n",
       "      <th>x</th>\n",
       "      <th>y</th>\n",
       "    </tr>\n",
       "  </thead>\n",
       "  <tbody>\n",
       "    <tr>\n",
       "      <th>22</th>\n",
       "      <td>III</td>\n",
       "      <td>10.0</td>\n",
       "      <td>7.46</td>\n",
       "    </tr>\n",
       "    <tr>\n",
       "      <th>23</th>\n",
       "      <td>III</td>\n",
       "      <td>8.0</td>\n",
       "      <td>6.77</td>\n",
       "    </tr>\n",
       "    <tr>\n",
       "      <th>24</th>\n",
       "      <td>III</td>\n",
       "      <td>13.0</td>\n",
       "      <td>12.74</td>\n",
       "    </tr>\n",
       "    <tr>\n",
       "      <th>25</th>\n",
       "      <td>III</td>\n",
       "      <td>9.0</td>\n",
       "      <td>7.11</td>\n",
       "    </tr>\n",
       "    <tr>\n",
       "      <th>26</th>\n",
       "      <td>III</td>\n",
       "      <td>11.0</td>\n",
       "      <td>7.81</td>\n",
       "    </tr>\n",
       "    <tr>\n",
       "      <th>27</th>\n",
       "      <td>III</td>\n",
       "      <td>14.0</td>\n",
       "      <td>8.84</td>\n",
       "    </tr>\n",
       "    <tr>\n",
       "      <th>28</th>\n",
       "      <td>III</td>\n",
       "      <td>6.0</td>\n",
       "      <td>6.08</td>\n",
       "    </tr>\n",
       "    <tr>\n",
       "      <th>29</th>\n",
       "      <td>III</td>\n",
       "      <td>4.0</td>\n",
       "      <td>5.39</td>\n",
       "    </tr>\n",
       "    <tr>\n",
       "      <th>30</th>\n",
       "      <td>III</td>\n",
       "      <td>12.0</td>\n",
       "      <td>8.15</td>\n",
       "    </tr>\n",
       "    <tr>\n",
       "      <th>31</th>\n",
       "      <td>III</td>\n",
       "      <td>7.0</td>\n",
       "      <td>6.42</td>\n",
       "    </tr>\n",
       "    <tr>\n",
       "      <th>32</th>\n",
       "      <td>III</td>\n",
       "      <td>5.0</td>\n",
       "      <td>5.73</td>\n",
       "    </tr>\n",
       "  </tbody>\n",
       "</table>\n",
       "</div>"
      ],
      "text/plain": [
       "   dataset     x      y\n",
       "22     III  10.0   7.46\n",
       "23     III   8.0   6.77\n",
       "24     III  13.0  12.74\n",
       "25     III   9.0   7.11\n",
       "26     III  11.0   7.81\n",
       "27     III  14.0   8.84\n",
       "28     III   6.0   6.08\n",
       "29     III   4.0   5.39\n",
       "30     III  12.0   8.15\n",
       "31     III   7.0   6.42\n",
       "32     III   5.0   5.73"
      ]
     },
     "execution_count": 10,
     "metadata": {},
     "output_type": "execute_result"
    }
   ],
   "source": [
    "anscombe_3"
   ]
  },
  {
   "cell_type": "markdown",
   "metadata": {
    "collapsed": true,
    "slideshow": {
     "slide_type": "slide"
    }
   },
   "source": [
    "it could be that easy...\n"
   ]
  },
  {
   "cell_type": "code",
   "execution_count": 11,
   "metadata": {
    "slideshow": {
     "slide_type": "slide"
    }
   },
   "outputs": [
    {
     "data": {
      "text/plain": [
       "<matplotlib.axes._subplots.AxesSubplot at 0x7f5deb05f8d0>"
      ]
     },
     "execution_count": 11,
     "metadata": {},
     "output_type": "execute_result"
    },
    {
     "data": {
      "image/png": "[encoded data removed]",
      "text/plain": [
       "<matplotlib.figure.Figure at 0x7f5deb221278>"
      ]
     },
     "metadata": {},
     "output_type": "display_data"
    }
   ],
   "source": [
    "sns.regplot(\"x\", \"y\", data=anscombe_3)"
   ]
  },
  {
   "cell_type": "markdown",
   "metadata": {
    "slideshow": {
     "slide_type": "slide"
    }
   },
   "source": [
    "# statsmodel OLS\n",
    "\n",
    "y (endogenous response variable) first\n",
    "then X for statsmodels"
   ]
  },
  {
   "cell_type": "code",
   "execution_count": 12,
   "metadata": {
    "collapsed": true
   },
   "outputs": [],
   "source": [
    "results = sm.OLS(anscombe_3.y, anscombe_3.x).fit()"
   ]
  },
  {
   "cell_type": "code",
   "execution_count": 13,
   "metadata": {
    "slideshow": {
     "slide_type": "slide"
    }
   },
   "outputs": [
    {
     "data": {
      "text/html": [
       "<table class=\"simpletable\">\n",
       "<caption>OLS Regression Results</caption>\n",
       "<tr>\n",
       "  <th>Dep. Variable:</th>            <td>y</td>        <th>  R-squared:         </th> <td>   0.963</td>\n",
       "</tr>\n",
       "<tr>\n",
       "  <th>Model:</th>                   <td>OLS</td>       <th>  Adj. R-squared:    </th> <td>   0.959</td>\n",
       "</tr>\n",
       "<tr>\n",
       "  <th>Method:</th>             <td>Least Squares</td>  <th>  F-statistic:       </th> <td>   257.7</td>\n",
       "</tr>\n",
       "<tr>\n",
       "  <th>Date:</th>             <td>Thu, 30 Nov 2017</td> <th>  Prob (F-statistic):</th> <td>1.82e-08</td>\n",
       "</tr>\n",
       "<tr>\n",
       "  <th>Time:</th>                 <td>11:58:00</td>     <th>  Log-Likelihood:    </th> <td> -20.047</td>\n",
       "</tr>\n",
       "<tr>\n",
       "  <th>No. Observations:</th>      <td>    11</td>      <th>  AIC:               </th> <td>   42.09</td>\n",
       "</tr>\n",
       "<tr>\n",
       "  <th>Df Residuals:</th>          <td>    10</td>      <th>  BIC:               </th> <td>   42.49</td>\n",
       "</tr>\n",
       "<tr>\n",
       "  <th>Df Model:</th>              <td>     1</td>      <th>                     </th>     <td> </td>   \n",
       "</tr>\n",
       "<tr>\n",
       "  <th>Covariance Type:</th>      <td>nonrobust</td>    <th>                     </th>     <td> </td>   \n",
       "</tr>\n",
       "</table>\n",
       "<table class=\"simpletable\">\n",
       "<tr>\n",
       "  <td></td>     <th>coef</th>     <th>std err</th>      <th>t</th>      <th>P>|t|</th>  <th>[0.025</th>    <th>0.975]</th>  \n",
       "</tr>\n",
       "<tr>\n",
       "  <th>x</th> <td>    0.7967</td> <td>    0.050</td> <td>   16.053</td> <td> 0.000</td> <td>    0.686</td> <td>    0.907</td>\n",
       "</tr>\n",
       "</table>\n",
       "<table class=\"simpletable\">\n",
       "<tr>\n",
       "  <th>Omnibus:</th>       <td> 0.727</td> <th>  Durbin-Watson:     </th> <td>   1.874</td>\n",
       "</tr>\n",
       "<tr>\n",
       "  <th>Prob(Omnibus):</th> <td> 0.695</td> <th>  Jarque-Bera (JB):  </th> <td>   0.614</td>\n",
       "</tr>\n",
       "<tr>\n",
       "  <th>Skew:</th>          <td>-0.215</td> <th>  Prob(JB):          </th> <td>   0.735</td>\n",
       "</tr>\n",
       "<tr>\n",
       "  <th>Kurtosis:</th>      <td> 1.925</td> <th>  Cond. No.          </th> <td>    1.00</td>\n",
       "</tr>\n",
       "</table>"
      ],
      "text/plain": [
       "<class 'statsmodels.iolib.summary.Summary'>\n",
       "\"\"\"\n",
       "                            OLS Regression Results                            \n",
       "==============================================================================\n",
       "Dep. Variable:                      y   R-squared:                       0.963\n",
       "Model:                            OLS   Adj. R-squared:                  0.959\n",
       "Method:                 Least Squares   F-statistic:                     257.7\n",
       "Date:                Thu, 30 Nov 2017   Prob (F-statistic):           1.82e-08\n",
       "Time:                        11:58:00   Log-Likelihood:                -20.047\n",
       "No. Observations:                  11   AIC:                             42.09\n",
       "Df Residuals:                      10   BIC:                             42.49\n",
       "Df Model:                           1                                         \n",
       "Covariance Type:            nonrobust                                         \n",
       "==============================================================================\n",
       "                 coef    std err          t      P>|t|      [0.025      0.975]\n",
       "------------------------------------------------------------------------------\n",
       "x              0.7967      0.050     16.053      0.000       0.686       0.907\n",
       "==============================================================================\n",
       "Omnibus:                        0.727   Durbin-Watson:                   1.874\n",
       "Prob(Omnibus):                  0.695   Jarque-Bera (JB):                0.614\n",
       "Skew:                          -0.215   Prob(JB):                        0.735\n",
       "Kurtosis:                       1.925   Cond. No.                         1.00\n",
       "==============================================================================\n",
       "\n",
       "Warnings:\n",
       "[1] Standard Errors assume that the covariance matrix of the errors is correctly specified.\n",
       "\"\"\""
      ]
     },
     "execution_count": 13,
     "metadata": {},
     "output_type": "execute_result"
    }
   ],
   "source": [
    "results.summary()"
   ]
  },
  {
   "cell_type": "code",
   "execution_count": 14,
   "metadata": {
    "collapsed": true,
    "slideshow": {
     "slide_type": "slide"
    }
   },
   "outputs": [],
   "source": [
    "residuals = pd.Series(results.resid, name=\"Residuals\")"
   ]
  },
  {
   "cell_type": "code",
   "execution_count": 15,
   "metadata": {},
   "outputs": [
    {
     "data": {
      "text/plain": [
       "22   -0.506733\n",
       "23    0.396613\n",
       "24    2.383247\n",
       "25   -0.060060\n",
       "26   -0.953407\n",
       "27   -2.313427\n",
       "28    1.299960\n",
       "29    2.203307\n",
       "30   -1.410080\n",
       "31    0.843287\n",
       "32    1.746633\n",
       "Name: Residuals, dtype: float64"
      ]
     },
     "execution_count": 15,
     "metadata": {},
     "output_type": "execute_result"
    }
   ],
   "source": [
    "residuals"
   ]
  },
  {
   "cell_type": "code",
   "execution_count": 16,
   "metadata": {
    "collapsed": true,
    "slideshow": {
     "slide_type": "slide"
    }
   },
   "outputs": [],
   "source": [
    "influence = results.get_influence()"
   ]
  },
  {
   "cell_type": "code",
   "execution_count": 17,
   "metadata": {
    "slideshow": {
     "slide_type": "slide"
    }
   },
   "outputs": [
    {
     "data": {
      "text/html": [
       "<table class=\"simpletable\">\n",
       "<tr>\n",
       "   <th>obs</th> <th>endog</th>    <th>fitted</th>          <th>Cook's</th>          <th>student.</th>        <th>hat diag</th>          <th>dffits </th>         <th>ext.stud.</th>         <th>dffits</th>     \n",
       "</tr>\n",
       "<tr>\n",
       "    <th></th>     <th></th>        <th>value</th>             <th>d</th>            <th>residual</th>            <th></th>             <th>internal</th>         <th>residual</th>             <th></th>        \n",
       "</tr>\n",
       "<tr>\n",
       "   <td>0.0</td> <td>7.46</td>  <td>7.96673326673</td>  <td>0.0128431454286</td>  <td>-0.340171633609</td> <td>0.0999000999001</td>  <td>-0.113327602236</td>  <td>-0.324598687157</td>  <td>-0.108139501564</td>\n",
       "</tr>\n",
       "<tr>\n",
       "   <td>1.0</td> <td>6.77</td>  <td>6.37338661339</td> <td>0.00465583605052</td>  <td>0.261083032151</td>  <td>0.0639360639361</td>  <td>0.0682336870652</td>  <td>0.248533617042</td>   <td>0.0649539148934</td>\n",
       "</tr>\n",
       "<tr>\n",
       "   <td>2.0</td> <td>12.74</td> <td>10.3567532468</td>   <td>0.56304126026</td>    <td>1.66490102863</td>  <td>0.168831168831</td>   <td>0.750360753411</td>    <td>1.85779360261</td>    <td>0.83729626168</td> \n",
       "</tr>\n",
       "<tr>\n",
       "   <td>3.0</td> <td>7.11</td>  <td>7.17005994006</td> <td>0.00014016555549</td> <td>-0.0398999228086</td> <td>0.0809190809191</td> <td>-0.0118391534955</td> <td>-0.0378554037794</td> <td>-0.0112325013291</td>\n",
       "</tr>\n",
       "<tr>\n",
       "   <td>4.0</td> <td>7.81</td>  <td>8.76340659341</td>  <td>0.0576684764003</td>  <td>-0.647616476854</td> <td>0.120879120879</td>   <td>-0.240142616793</td>  <td>-0.62768673566</td>   <td>-0.232752470968</td>\n",
       "</tr>\n",
       "<tr>\n",
       "   <td>5.0</td> <td>8.84</td>  <td>11.1534265734</td>  <td>0.657261055273</td>   <td>-1.64300488388</td>  <td>0.195804195804</td>   <td>-0.810716383992</td>  <td>-1.82424332935</td>   <td>-0.900145806019</td>\n",
       "</tr>\n",
       "<tr>\n",
       "   <td>6.0</td> <td>6.08</td>  <td>4.78003996004</td>  <td>0.0265258939274</td>  <td>0.843232662634</td>  <td>0.035964035964</td>   <td>0.162867719108</td>   <td>0.830013507158</td>    <td>0.16031448108</td> \n",
       "</tr>\n",
       "<tr>\n",
       "   <td>7.0</td> <td>5.39</td>  <td>3.18669330669</td>  <td>0.0325057041759</td>   <td>1.41461387429</td>  <td>0.015984015984</td>   <td>0.180293383616</td>    <td>1.50053079998</td>   <td>0.191243547138</td> \n",
       "</tr>\n",
       "<tr>\n",
       "   <td>8.0</td> <td>8.15</td>  <td>9.56007992008</td>   <td>0.15828889744</td>   <td>-0.970586825306</td> <td>0.143856143856</td>   <td>-0.397855372516</td>  <td>-0.967476485458</td>  <td>-0.396580406293</td>\n",
       "</tr>\n",
       "<tr>\n",
       "   <td>9.0</td> <td>6.42</td>  <td>5.57671328671</td>  <td>0.0156111482542</td>  <td>0.550728888781</td>  <td>0.048951048951</td>   <td>0.124944580731</td>   <td>0.530575491349</td>   <td>0.120372353191</td> \n",
       "</tr>\n",
       "<tr>\n",
       "  <td>10.0</td> <td>5.73</td>  <td>3.98336663337</td>  <td>0.0325091809322</td>   <td>1.12656931593</td>  <td>0.024975024975</td>    <td>0.1803030253</td>     <td>1.14380270444</td>   <td>0.183061161918</td> \n",
       "</tr>\n",
       "</table>"
      ],
      "text/plain": [
       "<class 'statsmodels.iolib.table.SimpleTable'>"
      ]
     },
     "execution_count": 17,
     "metadata": {},
     "output_type": "execute_result"
    }
   ],
   "source": [
    "influence.summary_table()"
   ]
  },
  {
   "cell_type": "code",
   "execution_count": 18,
   "metadata": {
    "slideshow": {
     "slide_type": "slide"
    }
   },
   "outputs": [
    {
     "data": {
      "text/html": [
       "<div>\n",
       "<style>\n",
       "    .dataframe thead tr:only-child th {\n",
       "        text-align: right;\n",
       "    }\n",
       "\n",
       "    .dataframe thead th {\n",
       "        text-align: left;\n",
       "    }\n",
       "\n",
       "    .dataframe tbody tr th {\n",
       "        vertical-align: top;\n",
       "    }\n",
       "</style>\n",
       "<table border=\"1\" class=\"dataframe\">\n",
       "  <thead>\n",
       "    <tr style=\"text-align: right;\">\n",
       "      <th></th>\n",
       "      <th>dfb_x</th>\n",
       "      <th>cooks_d</th>\n",
       "      <th>dffits</th>\n",
       "      <th>dffits_internal</th>\n",
       "      <th>hat_diag</th>\n",
       "      <th>standard_resid</th>\n",
       "      <th>student_resid</th>\n",
       "    </tr>\n",
       "  </thead>\n",
       "  <tbody>\n",
       "    <tr>\n",
       "      <th>24</th>\n",
       "      <td>0.837296</td>\n",
       "      <td>0.563041</td>\n",
       "      <td>0.837296</td>\n",
       "      <td>0.750361</td>\n",
       "      <td>0.168831</td>\n",
       "      <td>1.664901</td>\n",
       "      <td>1.857794</td>\n",
       "    </tr>\n",
       "    <tr>\n",
       "      <th>29</th>\n",
       "      <td>0.191244</td>\n",
       "      <td>0.032506</td>\n",
       "      <td>0.191244</td>\n",
       "      <td>0.180293</td>\n",
       "      <td>0.015984</td>\n",
       "      <td>1.414614</td>\n",
       "      <td>1.500531</td>\n",
       "    </tr>\n",
       "    <tr>\n",
       "      <th>32</th>\n",
       "      <td>0.183061</td>\n",
       "      <td>0.032509</td>\n",
       "      <td>0.183061</td>\n",
       "      <td>0.180303</td>\n",
       "      <td>0.024975</td>\n",
       "      <td>1.126569</td>\n",
       "      <td>1.143803</td>\n",
       "    </tr>\n",
       "    <tr>\n",
       "      <th>28</th>\n",
       "      <td>0.160314</td>\n",
       "      <td>0.026526</td>\n",
       "      <td>0.160314</td>\n",
       "      <td>0.162868</td>\n",
       "      <td>0.035964</td>\n",
       "      <td>0.843233</td>\n",
       "      <td>0.830014</td>\n",
       "    </tr>\n",
       "    <tr>\n",
       "      <th>31</th>\n",
       "      <td>0.120372</td>\n",
       "      <td>0.015611</td>\n",
       "      <td>0.120372</td>\n",
       "      <td>0.124945</td>\n",
       "      <td>0.048951</td>\n",
       "      <td>0.550729</td>\n",
       "      <td>0.530575</td>\n",
       "    </tr>\n",
       "    <tr>\n",
       "      <th>23</th>\n",
       "      <td>0.064954</td>\n",
       "      <td>0.004656</td>\n",
       "      <td>0.064954</td>\n",
       "      <td>0.068234</td>\n",
       "      <td>0.063936</td>\n",
       "      <td>0.261083</td>\n",
       "      <td>0.248534</td>\n",
       "    </tr>\n",
       "    <tr>\n",
       "      <th>25</th>\n",
       "      <td>-0.011233</td>\n",
       "      <td>0.000140</td>\n",
       "      <td>-0.011233</td>\n",
       "      <td>-0.011839</td>\n",
       "      <td>0.080919</td>\n",
       "      <td>-0.039900</td>\n",
       "      <td>-0.037855</td>\n",
       "    </tr>\n",
       "    <tr>\n",
       "      <th>22</th>\n",
       "      <td>-0.108140</td>\n",
       "      <td>0.012843</td>\n",
       "      <td>-0.108140</td>\n",
       "      <td>-0.113328</td>\n",
       "      <td>0.099900</td>\n",
       "      <td>-0.340172</td>\n",
       "      <td>-0.324599</td>\n",
       "    </tr>\n",
       "    <tr>\n",
       "      <th>26</th>\n",
       "      <td>-0.232752</td>\n",
       "      <td>0.057668</td>\n",
       "      <td>-0.232752</td>\n",
       "      <td>-0.240143</td>\n",
       "      <td>0.120879</td>\n",
       "      <td>-0.647616</td>\n",
       "      <td>-0.627687</td>\n",
       "    </tr>\n",
       "    <tr>\n",
       "      <th>30</th>\n",
       "      <td>-0.396580</td>\n",
       "      <td>0.158289</td>\n",
       "      <td>-0.396580</td>\n",
       "      <td>-0.397855</td>\n",
       "      <td>0.143856</td>\n",
       "      <td>-0.970587</td>\n",
       "      <td>-0.967476</td>\n",
       "    </tr>\n",
       "    <tr>\n",
       "      <th>27</th>\n",
       "      <td>-0.900146</td>\n",
       "      <td>0.657261</td>\n",
       "      <td>-0.900146</td>\n",
       "      <td>-0.810716</td>\n",
       "      <td>0.195804</td>\n",
       "      <td>-1.643005</td>\n",
       "      <td>-1.824243</td>\n",
       "    </tr>\n",
       "  </tbody>\n",
       "</table>\n",
       "</div>"
      ],
      "text/plain": [
       "       dfb_x   cooks_d    dffits  dffits_internal  hat_diag  standard_resid  \\\n",
       "24  0.837296  0.563041  0.837296         0.750361  0.168831        1.664901   \n",
       "29  0.191244  0.032506  0.191244         0.180293  0.015984        1.414614   \n",
       "32  0.183061  0.032509  0.183061         0.180303  0.024975        1.126569   \n",
       "28  0.160314  0.026526  0.160314         0.162868  0.035964        0.843233   \n",
       "31  0.120372  0.015611  0.120372         0.124945  0.048951        0.550729   \n",
       "23  0.064954  0.004656  0.064954         0.068234  0.063936        0.261083   \n",
       "25 -0.011233  0.000140 -0.011233        -0.011839  0.080919       -0.039900   \n",
       "22 -0.108140  0.012843 -0.108140        -0.113328  0.099900       -0.340172   \n",
       "26 -0.232752  0.057668 -0.232752        -0.240143  0.120879       -0.647616   \n",
       "30 -0.396580  0.158289 -0.396580        -0.397855  0.143856       -0.970587   \n",
       "27 -0.900146  0.657261 -0.900146        -0.810716  0.195804       -1.643005   \n",
       "\n",
       "    student_resid  \n",
       "24       1.857794  \n",
       "29       1.500531  \n",
       "32       1.143803  \n",
       "28       0.830014  \n",
       "31       0.530575  \n",
       "23       0.248534  \n",
       "25      -0.037855  \n",
       "22      -0.324599  \n",
       "26      -0.627687  \n",
       "30      -0.967476  \n",
       "27      -1.824243  "
      ]
     },
     "execution_count": 18,
     "metadata": {},
     "output_type": "execute_result"
    }
   ],
   "source": [
    "# Studentized residuals\n",
    "influence.summary_frame().sort_values(by='student_resid', ascending=False)"
   ]
  },
  {
   "cell_type": "code",
   "execution_count": 19,
   "metadata": {
    "collapsed": true,
    "slideshow": {
     "slide_type": "slide"
    }
   },
   "outputs": [],
   "source": [
    "clean = anscombe_3.drop(anscombe.index[24])"
   ]
  },
  {
   "cell_type": "code",
   "execution_count": 21,
   "metadata": {
    "slideshow": {
     "slide_type": "slide"
    }
   },
   "outputs": [
    {
     "data": {
      "image/png": "[encoded data removed]",
      "text/plain": [
       "<matplotlib.figure.Figure at 0x7f5dea2d4c18>"
      ]
     },
     "metadata": {},
     "output_type": "display_data"
    }
   ],
   "source": [
    "ax = sns.regplot(\"x\", \"y\", data=anscombe_3)\n",
    "sns.regplot(\"x\", \"y\", data=clean, ax=ax);"
   ]
  },
  {
   "cell_type": "code",
   "execution_count": null,
   "metadata": {
    "collapsed": true
   },
   "outputs": [],
   "source": []
  }
 ],
 "metadata": {
  "celltoolbar": "Slideshow",
  "kernelspec": {
   "display_name": "Python 3",
   "language": "python",
   "name": "python3"
  },
  "language_info": {
   "codemirror_mode": {
    "name": "ipython",
    "version": 3
   },
   "file_extension": ".py",
   "mimetype": "text/x-python",
   "name": "python",
   "nbconvert_exporter": "python",
   "pygments_lexer": "ipython3",
   "version": "3.6.3"
  }
 },
 "nbformat": 4,
 "nbformat_minor": 1
}
